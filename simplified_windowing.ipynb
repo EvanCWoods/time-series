{
  "nbformat": 4,
  "nbformat_minor": 0,
  "metadata": {
    "colab": {
      "name": "simplified-windowing.ipynb",
      "provenance": [],
      "collapsed_sections": [],
      "authorship_tag": "ABX9TyNfu6zeASGx1IGfdebB+cjh"
    },
    "kernelspec": {
      "name": "python3",
      "display_name": "Python 3"
    },
    "language_info": {
      "name": "python"
    }
  },
  "cells": [
    {
      "cell_type": "code",
      "metadata": {
        "id": "psMtjBUYGZWO"
      },
      "source": [
        "import tensorflow as tf\n",
        "import numpy as np\n",
        "import csv\n",
        "import pandas as pd\n",
        "import matplotlib.pyplot as plt\n",
        "from tensorflow.keras.preprocessing.sequence import TimeseriesGenerator"
      ],
      "execution_count": 2,
      "outputs": []
    },
    {
      "cell_type": "code",
      "metadata": {
        "id": "HrTaHD1TIcVt"
      },
      "source": [
        "df = pd.read_csv('/content/AAPL.csv')"
      ],
      "execution_count": 4,
      "outputs": []
    },
    {
      "cell_type": "code",
      "metadata": {
        "colab": {
          "base_uri": "https://localhost:8080/",
          "height": 419
        },
        "id": "0vAWKgbAJpZg",
        "outputId": "8106103b-4ba3-4f1f-8f42-96ae8ad1c303"
      },
      "source": [
        "df = df[['Date', 'Open', 'Close']]\n",
        "df"
      ],
      "execution_count": 5,
      "outputs": [
        {
          "output_type": "execute_result",
          "data": {
            "text/html": [
              "<div>\n",
              "<style scoped>\n",
              "    .dataframe tbody tr th:only-of-type {\n",
              "        vertical-align: middle;\n",
              "    }\n",
              "\n",
              "    .dataframe tbody tr th {\n",
              "        vertical-align: top;\n",
              "    }\n",
              "\n",
              "    .dataframe thead th {\n",
              "        text-align: right;\n",
              "    }\n",
              "</style>\n",
              "<table border=\"1\" class=\"dataframe\">\n",
              "  <thead>\n",
              "    <tr style=\"text-align: right;\">\n",
              "      <th></th>\n",
              "      <th>Date</th>\n",
              "      <th>Open</th>\n",
              "      <th>Close</th>\n",
              "    </tr>\n",
              "  </thead>\n",
              "  <tbody>\n",
              "    <tr>\n",
              "      <th>0</th>\n",
              "      <td>2000-06-14</td>\n",
              "      <td>0.845424</td>\n",
              "      <td>0.807478</td>\n",
              "    </tr>\n",
              "    <tr>\n",
              "      <th>1</th>\n",
              "      <td>2000-06-15</td>\n",
              "      <td>0.814732</td>\n",
              "      <td>0.824777</td>\n",
              "    </tr>\n",
              "    <tr>\n",
              "      <th>2</th>\n",
              "      <td>2000-06-16</td>\n",
              "      <td>0.834821</td>\n",
              "      <td>0.814174</td>\n",
              "    </tr>\n",
              "    <tr>\n",
              "      <th>3</th>\n",
              "      <td>2000-06-19</td>\n",
              "      <td>0.808594</td>\n",
              "      <td>0.862723</td>\n",
              "    </tr>\n",
              "    <tr>\n",
              "      <th>4</th>\n",
              "      <td>2000-06-20</td>\n",
              "      <td>0.879464</td>\n",
              "      <td>0.904018</td>\n",
              "    </tr>\n",
              "    <tr>\n",
              "      <th>...</th>\n",
              "      <td>...</td>\n",
              "      <td>...</td>\n",
              "      <td>...</td>\n",
              "    </tr>\n",
              "    <tr>\n",
              "      <th>5277</th>\n",
              "      <td>2021-06-07</td>\n",
              "      <td>126.169998</td>\n",
              "      <td>125.900002</td>\n",
              "    </tr>\n",
              "    <tr>\n",
              "      <th>5278</th>\n",
              "      <td>2021-06-08</td>\n",
              "      <td>126.599998</td>\n",
              "      <td>126.739998</td>\n",
              "    </tr>\n",
              "    <tr>\n",
              "      <th>5279</th>\n",
              "      <td>2021-06-09</td>\n",
              "      <td>127.209999</td>\n",
              "      <td>127.129997</td>\n",
              "    </tr>\n",
              "    <tr>\n",
              "      <th>5280</th>\n",
              "      <td>2021-06-10</td>\n",
              "      <td>127.019997</td>\n",
              "      <td>126.110001</td>\n",
              "    </tr>\n",
              "    <tr>\n",
              "      <th>5281</th>\n",
              "      <td>2021-06-11</td>\n",
              "      <td>126.529999</td>\n",
              "      <td>127.349998</td>\n",
              "    </tr>\n",
              "  </tbody>\n",
              "</table>\n",
              "<p>5282 rows × 3 columns</p>\n",
              "</div>"
            ],
            "text/plain": [
              "            Date        Open       Close\n",
              "0     2000-06-14    0.845424    0.807478\n",
              "1     2000-06-15    0.814732    0.824777\n",
              "2     2000-06-16    0.834821    0.814174\n",
              "3     2000-06-19    0.808594    0.862723\n",
              "4     2000-06-20    0.879464    0.904018\n",
              "...          ...         ...         ...\n",
              "5277  2021-06-07  126.169998  125.900002\n",
              "5278  2021-06-08  126.599998  126.739998\n",
              "5279  2021-06-09  127.209999  127.129997\n",
              "5280  2021-06-10  127.019997  126.110001\n",
              "5281  2021-06-11  126.529999  127.349998\n",
              "\n",
              "[5282 rows x 3 columns]"
            ]
          },
          "metadata": {
            "tags": []
          },
          "execution_count": 5
        }
      ]
    },
    {
      "cell_type": "code",
      "metadata": {
        "colab": {
          "base_uri": "https://localhost:8080/",
          "height": 296
        },
        "id": "xoKpERZSKq2t",
        "outputId": "63b5d63a-1362-4cc9-fa6d-4229e19baf84"
      },
      "source": [
        "df.set_index('Date')['Open'].plot()"
      ],
      "execution_count": 6,
      "outputs": [
        {
          "output_type": "execute_result",
          "data": {
            "text/plain": [
              "<matplotlib.axes._subplots.AxesSubplot at 0x7f6ded376e50>"
            ]
          },
          "metadata": {
            "tags": []
          },
          "execution_count": 6
        },
        {
          "output_type": "display_data",
          "data": {
            "image/png": "[encoded data removed]",
            "text/plain": [
              "<Figure size 432x288 with 1 Axes>"
            ]
          },
          "metadata": {
            "tags": [],
            "needs_background": "light"
          }
        }
      ]
    },
    {
      "cell_type": "code",
      "metadata": {
        "colab": {
          "base_uri": "https://localhost:8080/"
        },
        "id": "5-9KrGI1L8Y6",
        "outputId": "c8b8ac4d-db7e-47da-c896-a2ee6df7d54f"
      },
      "source": [
        "df.count()"
      ],
      "execution_count": 7,
      "outputs": [
        {
          "output_type": "execute_result",
          "data": {
            "text/plain": [
              "Date     5282\n",
              "Open     5282\n",
              "Close    5282\n",
              "dtype: int64"
            ]
          },
          "metadata": {
            "tags": []
          },
          "execution_count": 7
        }
      ]
    },
    {
      "cell_type": "code",
      "metadata": {
        "id": "M72MtcYVL_DQ"
      },
      "source": [
        "features = df[['Open']].to_numpy().tolist()\n",
        "targets = df['Open'].tolist()"
      ],
      "execution_count": 8,
      "outputs": []
    },
    {
      "cell_type": "code",
      "metadata": {
        "colab": {
          "base_uri": "https://localhost:8080/"
        },
        "id": "REnKufwrMJip",
        "outputId": "56c789f4-ca34-4efd-e4fd-41f15e84cfb4"
      },
      "source": [
        "features[:11]"
      ],
      "execution_count": 9,
      "outputs": [
        {
          "output_type": "execute_result",
          "data": {
            "text/plain": [
              "[[0.845424],\n",
              " [0.814732],\n",
              " [0.8348209999999999],\n",
              " [0.8085939999999999],\n",
              " [0.8794639999999999],\n",
              " [0.9017860000000001],\n",
              " [0.9955360000000001],\n",
              " [0.9603790000000001],\n",
              " [0.9375],\n",
              " [0.9603790000000001],\n",
              " [0.952009]]"
            ]
          },
          "metadata": {
            "tags": []
          },
          "execution_count": 9
        }
      ]
    },
    {
      "cell_type": "code",
      "metadata": {
        "colab": {
          "base_uri": "https://localhost:8080/"
        },
        "id": "kMIbEWVkMOdE",
        "outputId": "b7b95e9d-8258-469a-b744-a458b878ba6f"
      },
      "source": [
        "targets[:11]"
      ],
      "execution_count": 10,
      "outputs": [
        {
          "output_type": "execute_result",
          "data": {
            "text/plain": [
              "[0.845424,\n",
              " 0.814732,\n",
              " 0.8348209999999999,\n",
              " 0.8085939999999999,\n",
              " 0.8794639999999999,\n",
              " 0.9017860000000001,\n",
              " 0.9955360000000001,\n",
              " 0.9603790000000001,\n",
              " 0.9375,\n",
              " 0.9603790000000001,\n",
              " 0.952009]"
            ]
          },
          "metadata": {
            "tags": []
          },
          "execution_count": 10
        }
      ]
    },
    {
      "cell_type": "code",
      "metadata": {
        "colab": {
          "base_uri": "https://localhost:8080/"
        },
        "id": "TH4NeoXHMv7R",
        "outputId": "528d0274-4772-4279-b002-2e084cb81191"
      },
      "source": [
        "len(features), len(targets)"
      ],
      "execution_count": 11,
      "outputs": [
        {
          "output_type": "execute_result",
          "data": {
            "text/plain": [
              "(5282, 5282)"
            ]
          },
          "metadata": {
            "tags": []
          },
          "execution_count": 11
        }
      ]
    },
    {
      "cell_type": "code",
      "metadata": {
        "id": "fSZpY2HJMQZ0"
      },
      "source": [
        "ts_generator = TimeseriesGenerator(features, targets, length=10, sampling_rate=1, batch_size=32)"
      ],
      "execution_count": 12,
      "outputs": []
    },
    {
      "cell_type": "code",
      "metadata": {
        "id": "QQQ-4v4_Mppx"
      },
      "source": [
        "ts_generator[0]"
      ],
      "execution_count": null,
      "outputs": []
    },
    {
      "cell_type": "code",
      "metadata": {
        "colab": {
          "base_uri": "https://localhost:8080/"
        },
        "id": "hROx0S7IM_6T",
        "outputId": "fc9f05d7-d938-4233-a05c-1787dc1f9fb2"
      },
      "source": [
        "model = tf.keras.Sequential([\n",
        "  tf.keras.layers.Conv1D(filters=64, kernel_size=5, padding='causal', input_shape=[None, 1], activation='relu'),\n",
        "  tf.keras.layers.LSTM(128, return_sequences=True),\n",
        "  tf.keras.layers.LSTM(128, return_sequences=True),\n",
        "  tf.keras.layers.LSTM(32),\n",
        "  tf.keras.layers.Dense(64, activation='relu'),\n",
        "  tf.keras.layers.Dense(64, activation='relu'),\n",
        "  tf.keras.layers.Dense(32, activation='relu'),\n",
        "  tf.keras.layers.Dense(32, activation='relu'),\n",
        "  tf.keras.layers.Dense(16, activation='relu'),\n",
        "  tf.keras.layers.Dense(1)\n",
        "])\n",
        "\n",
        "model.compile(loss='mse',\n",
        "              optimizer='adam',\n",
        "              metrics=['mse'])\n",
        "\n",
        "history = model.fit(ts_generator, epochs=10)"
      ],
      "execution_count": 14,
      "outputs": [
        {
          "output_type": "stream",
          "text": [
            "Epoch 1/10\n",
            "165/165 [==============================] - 11s 33ms/step - loss: 804.9987 - mse: 804.9987\n",
            "Epoch 2/10\n",
            "165/165 [==============================] - 6s 33ms/step - loss: 117.1185 - mse: 117.1185\n",
            "Epoch 3/10\n",
            "165/165 [==============================] - 6s 33ms/step - loss: 96.2719 - mse: 96.2719\n",
            "Epoch 4/10\n",
            "165/165 [==============================] - 6s 33ms/step - loss: 88.1666 - mse: 88.1666\n",
            "Epoch 5/10\n",
            "165/165 [==============================] - 5s 33ms/step - loss: 46.6452 - mse: 46.6452\n",
            "Epoch 6/10\n",
            "165/165 [==============================] - 6s 33ms/step - loss: 24.0964 - mse: 24.0964\n",
            "Epoch 7/10\n",
            "165/165 [==============================] - 5s 33ms/step - loss: 13.6785 - mse: 13.6785\n",
            "Epoch 8/10\n",
            "165/165 [==============================] - 5s 33ms/step - loss: 32.7715 - mse: 32.7715\n",
            "Epoch 9/10\n",
            "165/165 [==============================] - 5s 33ms/step - loss: 79.1884 - mse: 79.1884\n",
            "Epoch 10/10\n",
            "165/165 [==============================] - 5s 33ms/step - loss: 42.6927 - mse: 42.6927\n"
          ],
          "name": "stdout"
        }
      ]
    },
    {
      "cell_type": "code",
      "metadata": {
        "id": "tQVpU89U6dfi"
      },
      "source": [
        "predictions = model.predict(ts_generator)"
      ],
      "execution_count": 43,
      "outputs": []
    },
    {
      "cell_type": "code",
      "metadata": {
        "id": "dgHveeRZ8qV9"
      },
      "source": [
        "truth = features[10:]"
      ],
      "execution_count": 60,
      "outputs": []
    },
    {
      "cell_type": "code",
      "metadata": {
        "colab": {
          "base_uri": "https://localhost:8080/"
        },
        "id": "y7OG8ZNg81vo",
        "outputId": "de2f8dd3-1834-4237-961f-b0061d7844b8"
      },
      "source": [
        "print(predictions[-1])"
      ],
      "execution_count": 65,
      "outputs": [
        {
          "output_type": "stream",
          "text": [
            "[135.55113]\n"
          ],
          "name": "stdout"
        }
      ]
    },
    {
      "cell_type": "code",
      "metadata": {
        "id": "TdsxWQF49E_Q"
      },
      "source": [
        ""
      ],
      "execution_count": null,
      "outputs": []
    }
  ]
}