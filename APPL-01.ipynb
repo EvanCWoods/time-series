{
  "nbformat": 4,
  "nbformat_minor": 0,
  "metadata": {
    "colab": {
      "name": "Untitled1.ipynb",
      "provenance": [],
      "authorship_tag": "ABX9TyOGfsZfZLtk7lLOQBTxUccX"
    },
    "kernelspec": {
      "name": "python3",
      "display_name": "Python 3"
    },
    "language_info": {
      "name": "python"
    }
  },
  "cells": [
    {
      "cell_type": "code",
      "metadata": {
        "id": "65TQi2tTD6QK"
      },
      "source": [
        "import tensorflow as tf\n",
        "import csv\n",
        "import numpy as np\n",
        "import pandas as pd\n",
        "import matplotlib.pyplot as plt"
      ],
      "execution_count": 2,
      "outputs": []
    },
    {
      "cell_type": "code",
      "metadata": {
        "id": "I1llRus283lJ"
      },
      "source": [
        "prices = []\n",
        "\n",
        "df = pd.read_csv('/content/new_AAPL.csv')\n",
        "\n",
        "col = list(df)[0]\n",
        "\n",
        "df_for_training = df[col].astype(float)\n",
        "\n",
        "time_steps = np.arange(0, len(series), step=1)\n",
        "\n",
        "series = np.array(df_for_training)\n",
        "time = np.array(time_steps)"
      ],
      "execution_count": 57,
      "outputs": []
    },
    {
      "cell_type": "code",
      "metadata": {
        "colab": {
          "base_uri": "https://localhost:8080/",
          "height": 391
        },
        "id": "T0v5Sid5-OUQ",
        "outputId": "d80b7068-e435-4b8f-94a5-ef2589d63e3c"
      },
      "source": [
        "plt.figure(figsize=(10,6))\n",
        "plt.plot(time, series)"
      ],
      "execution_count": 59,
      "outputs": [
        {
          "output_type": "execute_result",
          "data": {
            "text/plain": [
              "[<matplotlib.lines.Line2D at 0x7f4a05cd7450>]"
            ]
          },
          "metadata": {
            "tags": []
          },
          "execution_count": 59
        },
        {
          "output_type": "display_data",
          "data": {
            "image/png": "[encoded data removed]",
            "text/plain": [
              "<Figure size 720x432 with 1 Axes>"
            ]
          },
          "metadata": {
            "tags": [],
            "needs_background": "light"
          }
        }
      ]
    },
    {
      "cell_type": "code",
      "metadata": {
        "id": "flMjT8cP-v7s"
      },
      "source": [
        "split_time = 4000\n",
        "train_time = time[:split_time]\n",
        "train_data = series[:split_time]\n",
        "test_time = time[split_time:]\n",
        "test_data = series[split_time:]"
      ],
      "execution_count": 78,
      "outputs": []
    },
    {
      "cell_type": "code",
      "metadata": {
        "id": "VswMevzHAjMQ"
      },
      "source": [
        "window_size = 30\n",
        "batch_size = 32\n",
        "shuffle_buffer_size = 1000"
      ],
      "execution_count": 79,
      "outputs": []
    },
    {
      "cell_type": "code",
      "metadata": {
        "id": "-q1nWhyDAqJD"
      },
      "source": [
        "def windowed_data(series, window_size, batch_size, shuffle_buffer):\n",
        "  series = tf.expand_dims(series, axis=-1)\n",
        "  ds = tf.data.Dataset.from_tensor_slices(series)\n",
        "  ds = ds.window(window_size + 1, shift=1, drop_remainder=True)\n",
        "  ds = ds.flat_map(lambda w: w.batch(window_size + 1))\n",
        "  ds = ds.shuffle(shuffle_buffer)\n",
        "  ds = ds.map(lambda w: (w[:-1], w[1:]))\n",
        "  return ds.batch(batch_size).prefetch(1)"
      ],
      "execution_count": 80,
      "outputs": []
    },
    {
      "cell_type": "code",
      "metadata": {
        "id": "4h49QhT-CLPi"
      },
      "source": [
        "train_data = windowed_data(series, window_size, batch_size, shuffle_buffer_size)"
      ],
      "execution_count": 81,
      "outputs": []
    },
    {
      "cell_type": "code",
      "metadata": {
        "colab": {
          "base_uri": "https://localhost:8080/"
        },
        "id": "Fpr_PT8jBMTk",
        "outputId": "8d8f27fb-47bd-4fa6-9725-8de4ed1aadb7"
      },
      "source": [
        "model = tf.keras.Sequential([\n",
        "  tf.keras.layers.Conv1D(filters=32, \n",
        "                         kernel_size=5, \n",
        "                         strides=1, \n",
        "                         padding='causal', \n",
        "                         activation='relu', \n",
        "                         input_shape=(None, 1)),\n",
        "  tf.keras.layers.LSTM(64, return_sequences=True),\n",
        "  tf.keras.layers.LSTM(64, return_sequences=True),\n",
        "  tf.keras.layers.Dense(30, activation='relu'),\n",
        "  tf.keras.layers.Dense(10, activation='relu'),\n",
        "  tf.keras.layers.Dense(1),\n",
        "])\n",
        "\n",
        "model.compile(loss='MAE',\n",
        "              optimizer='adam',\n",
        "              metrics='MAE')\n",
        "\n",
        "history = model.fit(train_data, epochs=100)"
      ],
      "execution_count": 67,
      "outputs": [
        {
          "output_type": "stream",
          "text": [
            "Epoch 1/100\n",
            "165/165 [==============================] - 11s 40ms/step - loss: 4.1687 - MAE: 4.1687\n",
            "Epoch 2/100\n",
            "165/165 [==============================] - 6s 37ms/step - loss: 1.7591 - MAE: 1.7591\n",
            "Epoch 3/100\n",
            "165/165 [==============================] - 6s 38ms/step - loss: 0.8012 - MAE: 0.8012\n",
            "Epoch 4/100\n",
            "165/165 [==============================] - 6s 38ms/step - loss: 0.8983 - MAE: 0.8983\n",
            "Epoch 5/100\n",
            "165/165 [==============================] - 6s 38ms/step - loss: 0.7980 - MAE: 0.7980\n",
            "Epoch 6/100\n",
            "165/165 [==============================] - 6s 38ms/step - loss: 0.6243 - MAE: 0.6243\n",
            "Epoch 7/100\n",
            "165/165 [==============================] - 6s 37ms/step - loss: 1.1973 - MAE: 1.1973\n",
            "Epoch 8/100\n",
            "165/165 [==============================] - 6s 37ms/step - loss: 0.8202 - MAE: 0.8202\n",
            "Epoch 9/100\n",
            "165/165 [==============================] - 6s 37ms/step - loss: 0.5666 - MAE: 0.5666\n",
            "Epoch 10/100\n",
            "165/165 [==============================] - 6s 38ms/step - loss: 0.5877 - MAE: 0.5877\n",
            "Epoch 11/100\n",
            "165/165 [==============================] - 6s 38ms/step - loss: 0.5747 - MAE: 0.5747\n",
            "Epoch 12/100\n",
            "165/165 [==============================] - 6s 37ms/step - loss: 0.4775 - MAE: 0.4775\n",
            "Epoch 13/100\n",
            "165/165 [==============================] - 6s 38ms/step - loss: 0.4635 - MAE: 0.4635\n",
            "Epoch 14/100\n",
            "165/165 [==============================] - 6s 37ms/step - loss: 0.5216 - MAE: 0.5216\n",
            "Epoch 15/100\n",
            "165/165 [==============================] - 6s 37ms/step - loss: 0.4875 - MAE: 0.4875\n",
            "Epoch 16/100\n",
            "165/165 [==============================] - 6s 38ms/step - loss: 0.4036 - MAE: 0.4036\n",
            "Epoch 17/100\n",
            "165/165 [==============================] - 7s 39ms/step - loss: 0.4070 - MAE: 0.4070\n",
            "Epoch 18/100\n",
            "165/165 [==============================] - 6s 38ms/step - loss: 0.4845 - MAE: 0.4845\n",
            "Epoch 19/100\n",
            "165/165 [==============================] - 6s 38ms/step - loss: 0.3979 - MAE: 0.3979\n",
            "Epoch 20/100\n",
            "165/165 [==============================] - 6s 38ms/step - loss: 0.3503 - MAE: 0.3503\n",
            "Epoch 21/100\n",
            "165/165 [==============================] - 6s 38ms/step - loss: 0.4161 - MAE: 0.4161\n",
            "Epoch 22/100\n",
            "165/165 [==============================] - 6s 39ms/step - loss: 0.8514 - MAE: 0.8514\n",
            "Epoch 23/100\n",
            "165/165 [==============================] - 6s 38ms/step - loss: 0.4017 - MAE: 0.4017\n",
            "Epoch 24/100\n",
            "165/165 [==============================] - 6s 37ms/step - loss: 0.4765 - MAE: 0.4765\n",
            "Epoch 25/100\n",
            "165/165 [==============================] - 6s 37ms/step - loss: 0.4344 - MAE: 0.4344\n",
            "Epoch 26/100\n",
            "165/165 [==============================] - 6s 37ms/step - loss: 0.3599 - MAE: 0.3599\n",
            "Epoch 27/100\n",
            "165/165 [==============================] - 6s 38ms/step - loss: 0.3629 - MAE: 0.3629\n",
            "Epoch 28/100\n",
            "165/165 [==============================] - 6s 38ms/step - loss: 0.3768 - MAE: 0.3768\n",
            "Epoch 29/100\n",
            "165/165 [==============================] - 6s 38ms/step - loss: 0.5870 - MAE: 0.5870\n",
            "Epoch 30/100\n",
            "165/165 [==============================] - 6s 38ms/step - loss: 0.4204 - MAE: 0.4204\n",
            "Epoch 31/100\n",
            "165/165 [==============================] - 7s 40ms/step - loss: 0.3435 - MAE: 0.3435\n",
            "Epoch 32/100\n",
            "165/165 [==============================] - 7s 39ms/step - loss: 0.4277 - MAE: 0.4277\n",
            "Epoch 33/100\n",
            "165/165 [==============================] - 6s 38ms/step - loss: 0.4351 - MAE: 0.4351\n",
            "Epoch 34/100\n",
            "165/165 [==============================] - 6s 38ms/step - loss: 0.3775 - MAE: 0.3775\n",
            "Epoch 35/100\n",
            "165/165 [==============================] - 6s 38ms/step - loss: 0.3621 - MAE: 0.3621\n",
            "Epoch 36/100\n",
            "165/165 [==============================] - 7s 39ms/step - loss: 0.3682 - MAE: 0.3682\n",
            "Epoch 37/100\n",
            "165/165 [==============================] - 7s 39ms/step - loss: 0.3495 - MAE: 0.3495\n",
            "Epoch 38/100\n",
            "165/165 [==============================] - 7s 39ms/step - loss: 0.3654 - MAE: 0.3654\n",
            "Epoch 39/100\n",
            "165/165 [==============================] - 7s 40ms/step - loss: 0.5780 - MAE: 0.5780\n",
            "Epoch 40/100\n",
            "165/165 [==============================] - 7s 40ms/step - loss: 0.3734 - MAE: 0.3734\n",
            "Epoch 41/100\n",
            "165/165 [==============================] - 7s 40ms/step - loss: 0.3444 - MAE: 0.3444\n",
            "Epoch 42/100\n",
            "165/165 [==============================] - 7s 40ms/step - loss: 0.3994 - MAE: 0.3994\n",
            "Epoch 43/100\n",
            "165/165 [==============================] - 7s 42ms/step - loss: 0.3299 - MAE: 0.3299\n",
            "Epoch 44/100\n",
            "165/165 [==============================] - 7s 39ms/step - loss: 0.3185 - MAE: 0.3185\n",
            "Epoch 45/100\n",
            "165/165 [==============================] - 7s 39ms/step - loss: 0.3338 - MAE: 0.3338\n",
            "Epoch 46/100\n",
            "165/165 [==============================] - 7s 41ms/step - loss: 0.3526 - MAE: 0.3526\n",
            "Epoch 47/100\n",
            "165/165 [==============================] - 7s 41ms/step - loss: 0.3313 - MAE: 0.3313\n",
            "Epoch 48/100\n",
            "165/165 [==============================] - 6s 38ms/step - loss: 0.4634 - MAE: 0.4634\n",
            "Epoch 49/100\n",
            "165/165 [==============================] - 6s 38ms/step - loss: 0.3227 - MAE: 0.3227\n",
            "Epoch 50/100\n",
            "165/165 [==============================] - 7s 40ms/step - loss: 0.4228 - MAE: 0.4228\n",
            "Epoch 51/100\n",
            "165/165 [==============================] - 6s 38ms/step - loss: 0.4066 - MAE: 0.4066\n",
            "Epoch 52/100\n",
            "165/165 [==============================] - 7s 39ms/step - loss: 0.3106 - MAE: 0.3106\n",
            "Epoch 53/100\n",
            "165/165 [==============================] - 6s 38ms/step - loss: 0.3257 - MAE: 0.3257\n",
            "Epoch 54/100\n",
            "165/165 [==============================] - 7s 41ms/step - loss: 0.3286 - MAE: 0.3286\n",
            "Epoch 55/100\n",
            "165/165 [==============================] - 7s 40ms/step - loss: 0.3262 - MAE: 0.3262\n",
            "Epoch 56/100\n",
            "165/165 [==============================] - 7s 41ms/step - loss: 0.7136 - MAE: 0.7136\n",
            "Epoch 57/100\n",
            "165/165 [==============================] - 7s 39ms/step - loss: 0.3824 - MAE: 0.3824\n",
            "Epoch 58/100\n",
            "165/165 [==============================] - 6s 38ms/step - loss: 0.3668 - MAE: 0.3668\n",
            "Epoch 59/100\n",
            "165/165 [==============================] - 7s 39ms/step - loss: 0.4488 - MAE: 0.4488\n",
            "Epoch 60/100\n",
            "165/165 [==============================] - 7s 39ms/step - loss: 0.3311 - MAE: 0.3311\n",
            "Epoch 61/100\n",
            "165/165 [==============================] - 6s 38ms/step - loss: 0.3201 - MAE: 0.3201\n",
            "Epoch 62/100\n",
            "165/165 [==============================] - 6s 38ms/step - loss: 0.3304 - MAE: 0.3304\n",
            "Epoch 63/100\n",
            "165/165 [==============================] - 7s 39ms/step - loss: 0.3208 - MAE: 0.3208\n",
            "Epoch 64/100\n",
            "165/165 [==============================] - 6s 38ms/step - loss: 0.3299 - MAE: 0.3299\n",
            "Epoch 65/100\n",
            "165/165 [==============================] - 6s 38ms/step - loss: 0.4405 - MAE: 0.4405\n",
            "Epoch 66/100\n",
            "165/165 [==============================] - 6s 39ms/step - loss: 0.4541 - MAE: 0.4541\n",
            "Epoch 67/100\n",
            "165/165 [==============================] - 6s 39ms/step - loss: 0.3516 - MAE: 0.3516\n",
            "Epoch 68/100\n",
            "165/165 [==============================] - 7s 39ms/step - loss: 0.3210 - MAE: 0.3210\n",
            "Epoch 69/100\n",
            "165/165 [==============================] - 6s 39ms/step - loss: 0.4137 - MAE: 0.4137\n",
            "Epoch 70/100\n",
            "165/165 [==============================] - 7s 39ms/step - loss: 0.3361 - MAE: 0.3361\n",
            "Epoch 71/100\n",
            "165/165 [==============================] - 6s 38ms/step - loss: 0.3489 - MAE: 0.3489\n",
            "Epoch 72/100\n",
            "165/165 [==============================] - 6s 38ms/step - loss: 0.3398 - MAE: 0.3398\n",
            "Epoch 73/100\n",
            "165/165 [==============================] - 6s 38ms/step - loss: 0.3198 - MAE: 0.3198\n",
            "Epoch 74/100\n",
            "165/165 [==============================] - 6s 38ms/step - loss: 0.3141 - MAE: 0.3141\n",
            "Epoch 75/100\n",
            "165/165 [==============================] - 6s 37ms/step - loss: 0.3229 - MAE: 0.3229\n",
            "Epoch 76/100\n",
            "165/165 [==============================] - 6s 38ms/step - loss: 0.3245 - MAE: 0.3245\n",
            "Epoch 77/100\n",
            "165/165 [==============================] - 7s 39ms/step - loss: 0.3946 - MAE: 0.3946\n",
            "Epoch 78/100\n",
            "165/165 [==============================] - 6s 38ms/step - loss: 0.3100 - MAE: 0.3100\n",
            "Epoch 79/100\n",
            "165/165 [==============================] - 6s 38ms/step - loss: 0.3132 - MAE: 0.3132\n",
            "Epoch 80/100\n",
            "165/165 [==============================] - 6s 38ms/step - loss: 0.3141 - MAE: 0.3141\n",
            "Epoch 81/100\n",
            "165/165 [==============================] - 6s 39ms/step - loss: 0.3708 - MAE: 0.3708\n",
            "Epoch 82/100\n",
            "165/165 [==============================] - 6s 38ms/step - loss: 0.3469 - MAE: 0.3469\n",
            "Epoch 83/100\n",
            "165/165 [==============================] - 6s 37ms/step - loss: 0.3325 - MAE: 0.3325\n",
            "Epoch 84/100\n",
            "165/165 [==============================] - 7s 40ms/step - loss: 0.3155 - MAE: 0.3155\n",
            "Epoch 85/100\n",
            "165/165 [==============================] - 7s 40ms/step - loss: 0.3137 - MAE: 0.3137\n",
            "Epoch 86/100\n",
            "165/165 [==============================] - 6s 37ms/step - loss: 0.3192 - MAE: 0.3192\n",
            "Epoch 87/100\n",
            "165/165 [==============================] - 7s 39ms/step - loss: 0.3282 - MAE: 0.3282\n",
            "Epoch 88/100\n",
            "165/165 [==============================] - 6s 38ms/step - loss: 0.3835 - MAE: 0.3835\n",
            "Epoch 89/100\n",
            "165/165 [==============================] - 6s 38ms/step - loss: 0.3157 - MAE: 0.3157\n",
            "Epoch 90/100\n",
            "165/165 [==============================] - 6s 39ms/step - loss: 0.3234 - MAE: 0.3234\n",
            "Epoch 91/100\n",
            "165/165 [==============================] - 6s 38ms/step - loss: 0.3249 - MAE: 0.3249\n",
            "Epoch 92/100\n",
            "165/165 [==============================] - 6s 37ms/step - loss: 0.3458 - MAE: 0.3458\n",
            "Epoch 93/100\n",
            "165/165 [==============================] - 6s 38ms/step - loss: 0.4360 - MAE: 0.4360\n",
            "Epoch 94/100\n",
            "165/165 [==============================] - 6s 37ms/step - loss: 0.3490 - MAE: 0.3490\n",
            "Epoch 95/100\n",
            "165/165 [==============================] - 7s 39ms/step - loss: 0.3129 - MAE: 0.3129\n",
            "Epoch 96/100\n",
            "165/165 [==============================] - 6s 38ms/step - loss: 0.3560 - MAE: 0.3560\n",
            "Epoch 97/100\n",
            "165/165 [==============================] - 6s 38ms/step - loss: 0.3264 - MAE: 0.3264\n",
            "Epoch 98/100\n",
            "165/165 [==============================] - 6s 38ms/step - loss: 0.3404 - MAE: 0.3404\n",
            "Epoch 99/100\n",
            "165/165 [==============================] - 6s 38ms/step - loss: 0.3170 - MAE: 0.3170\n",
            "Epoch 100/100\n",
            "165/165 [==============================] - 6s 38ms/step - loss: 0.3534 - MAE: 0.3534\n"
          ],
          "name": "stdout"
        }
      ]
    },
    {
      "cell_type": "code",
      "metadata": {
        "id": "alvFpdk9B74K"
      },
      "source": [
        "def model_forecast(model, series, window_size):\n",
        "    ds = tf.data.Dataset.from_tensor_slices(series)\n",
        "    ds = ds.window(window_size, shift=1, drop_remainder=True)\n",
        "    ds = ds.flat_map(lambda w: w.batch(window_size))\n",
        "    ds = ds.batch(32).prefetch(1)\n",
        "    forecast = model.predict(ds)\n",
        "    return forecast"
      ],
      "execution_count": 82,
      "outputs": []
    },
    {
      "cell_type": "code",
      "metadata": {
        "id": "3NC8Xn5lHXCx"
      },
      "source": [
        "rnn_forecast = model_forecast(model, series[..., np.newaxis], window_size)\n",
        "rnn_forecast = rnn_forecast[split_time - window_size:-1, -1, 0]"
      ],
      "execution_count": 83,
      "outputs": []
    },
    {
      "cell_type": "code",
      "metadata": {
        "colab": {
          "base_uri": "https://localhost:8080/",
          "height": 391
        },
        "id": "b4bRX3PEHdhp",
        "outputId": "1eeb37e9-ed2b-4835-a0b3-7f5f98c35a48"
      },
      "source": [
        "plt.figure(figsize=(10, 6))\n",
        "plt.plot(test_time, test_data)\n",
        "plt.plot(test_time, rnn_forecast)"
      ],
      "execution_count": 89,
      "outputs": [
        {
          "output_type": "execute_result",
          "data": {
            "text/plain": [
              "[<matplotlib.lines.Line2D at 0x7f49f280d390>]"
            ]
          },
          "metadata": {
            "tags": []
          },
          "execution_count": 89
        },
        {
          "output_type": "display_data",
          "data": {
            "image/png": "[encoded data removed]",
            "text/plain": [
              "<Figure size 720x432 with 1 Axes>"
            ]
          },
          "metadata": {
            "tags": [],
            "needs_background": "light"
          }
        }
      ]
    },
    {
      "cell_type": "code",
      "metadata": {
        "colab": {
          "base_uri": "https://localhost:8080/"
        },
        "id": "7SWGa52BH9aF",
        "outputId": "852dabd6-00f6-48ac-9992-eebd547beb9e"
      },
      "source": [
        "tf.keras.metrics.mean_absolute_error(test_data, rnn_forecast).numpy()"
      ],
      "execution_count": 91,
      "outputs": [
        {
          "output_type": "execute_result",
          "data": {
            "text/plain": [
              "0.9949274"
            ]
          },
          "metadata": {
            "tags": []
          },
          "execution_count": 91
        }
      ]
    },
    {
      "cell_type": "code",
      "metadata": {
        "colab": {
          "base_uri": "https://localhost:8080/"
        },
        "id": "_wF0OzexJPsI",
        "outputId": "32f553d6-60b3-46b4-c97b-4f6639e481a8"
      },
      "source": [
        "print(rnn_forecast - test_data)"
      ],
      "execution_count": 93,
      "outputs": [
        {
          "output_type": "stream",
          "text": [
            "[-0.47093346 -0.42528359 -0.15966003 ... -0.3773574   0.55523646\n",
            "  1.29965951]\n"
          ],
          "name": "stdout"
        }
      ]
    }
  ]
}