{
  "nbformat": 4,
  "nbformat_minor": 0,
  "metadata": {
    "colab": {
      "name": "TS-Example.ipynb",
      "provenance": [],
      "authorship_tag": "ABX9TyOELsp4vHGoQEPOGEuheP22"
    },
    "kernelspec": {
      "name": "python3",
      "display_name": "Python 3"
    },
    "language_info": {
      "name": "python"
    }
  },
  "cells": [
    {
      "cell_type": "code",
      "metadata": {
        "id": "ZTc7v4P7VGP3"
      },
      "source": [
        "import tensorflow as tf\n",
        "import numpy as np\n",
        "import pandas as pd\n",
        "import sklearn\n",
        "from sklearn.preprocessing import StandardScaler"
      ],
      "execution_count": 5,
      "outputs": []
    },
    {
      "cell_type": "code",
      "metadata": {
        "colab": {
          "base_uri": "https://localhost:8080/"
        },
        "id": "f05VbVNsVSJT",
        "outputId": "b29e5792-e1f7-493f-9bbc-d3e3148d6691"
      },
      "source": [
        "series = []\n",
        "\n",
        "\n",
        "df = pd.read_csv('/content/AAPL.csv')\n",
        "\n",
        "\n",
        "col = list(df)[1]\n",
        "df_for_training = df[col].astype(float)\n",
        "series = np.array(df_for_training)\n",
        "\n",
        "\n",
        "time_steps = np.arange(0, len(series), step=1)\n",
        "time = np.array(time_steps)\n",
        "\n",
        "\n",
        "print(series[-10:])\n",
        "print(time[-10:])"
      ],
      "execution_count": 6,
      "outputs": [
        {
          "output_type": "stream",
          "text": [
            "[125.57     125.080002 124.279999 124.68     124.07     126.169998\n",
            " 126.599998 127.209999 127.019997 126.529999]\n",
            "[5272 5273 5274 5275 5276 5277 5278 5279 5280 5281]\n"
          ],
          "name": "stdout"
        }
      ]
    },
    {
      "cell_type": "code",
      "metadata": {
        "colab": {
          "base_uri": "https://localhost:8080/",
          "height": 282
        },
        "id": "Ze7qP_lqcTcR",
        "outputId": "d47d1276-4128-4556-d42d-e7c114a611c3"
      },
      "source": [
        "import matplotlib.pyplot as plt\n",
        "\n",
        "plt.plot(time, series)"
      ],
      "execution_count": 7,
      "outputs": [
        {
          "output_type": "execute_result",
          "data": {
            "text/plain": [
              "[<matplotlib.lines.Line2D at 0x7ff3fde9c1d0>]"
            ]
          },
          "metadata": {
            "tags": []
          },
          "execution_count": 7
        },
        {
          "output_type": "display_data",
          "data": {
            "image/png": "[encoded data removed]",
            "text/plain": [
              "<Figure size 432x288 with 1 Axes>"
            ]
          },
          "metadata": {
            "tags": [],
            "needs_background": "light"
          }
        }
      ]
    },
    {
      "cell_type": "code",
      "metadata": {
        "id": "lR5mS65xvSgh"
      },
      "source": [
        "split_point = 4800\n",
        "train_data = series[:split_point]\n",
        "train_time = time[:split_point]\n",
        "test_data = series[split_point:]\n",
        "test_time = time[split_point:]"
      ],
      "execution_count": 8,
      "outputs": []
    },
    {
      "cell_type": "code",
      "metadata": {
        "id": "CA8ICA7HfvlS"
      },
      "source": [
        "def windowed_data(series, batch_size, window_size, shuffle_buffer):\n",
        "  series = tf.expand_dims(series, axis=-1)\n",
        "  ds = tf.data.Dataset.from_tensor_slices(series)\n",
        "  ds = ds.window(window_size + 1, shift=1, drop_remainder=True)\n",
        "  ds = ds.flat_map(lambda w: w.batch(window_size + 1))\n",
        "  ds = ds.shuffle(shuffle_buffer)\n",
        "  ds = ds.map(lambda w: (w[:-1], w[1:]))\n",
        "  return ds.batch(batch_size).prefetch(1)"
      ],
      "execution_count": 9,
      "outputs": []
    },
    {
      "cell_type": "code",
      "metadata": {
        "id": "i_E0N_L_gZr8"
      },
      "source": [
        "training_data = windowed_data(series, batch_size=42, window_size=30, shuffle_buffer=1000)"
      ],
      "execution_count": 10,
      "outputs": []
    },
    {
      "cell_type": "code",
      "metadata": {
        "colab": {
          "base_uri": "https://localhost:8080/"
        },
        "id": "8MKYLd7Rgn67",
        "outputId": "80a7222b-6917-4b17-dabd-60af05f48674"
      },
      "source": [
        "print(training_data)"
      ],
      "execution_count": 11,
      "outputs": [
        {
          "output_type": "stream",
          "text": [
            "<PrefetchDataset shapes: ((None, None, 1), (None, None, 1)), types: (tf.float64, tf.float64)>\n"
          ],
          "name": "stdout"
        }
      ]
    },
    {
      "cell_type": "code",
      "metadata": {
        "colab": {
          "base_uri": "https://localhost:8080/"
        },
        "id": "tP-XCTcJgi90",
        "outputId": "2006cf5d-affb-4395-ef0c-4d658b886e2f"
      },
      "source": [
        "model = tf.keras.Sequential([\n",
        "  tf.keras.layers.Conv1D(filters=64, kernel_size=5, padding='causal', input_shape=[None, 1], activation='relu'),\n",
        "  tf.keras.layers.LSTM(128, return_sequences=True),\n",
        "  tf.keras.layers.LSTM(128, return_sequences=True),\n",
        "  tf.keras.layers.LSTM(32),\n",
        "  tf.keras.layers.Dense(64, activation='relu'),\n",
        "  tf.keras.layers.Dense(64, activation='relu'),\n",
        "  tf.keras.layers.Dense(32, activation='relu'),\n",
        "  tf.keras.layers.Dense(32, activation='relu'),\n",
        "  tf.keras.layers.Dense(16, activation='relu'),\n",
        "  tf.keras.layers.Dense(1)\n",
        "])\n",
        "\n",
        "model.compile(loss='mse',\n",
        "              optimizer='adam',\n",
        "              metrics=['mse'])\n",
        "\n",
        "history = model.fit(training_data, epochs=25)"
      ],
      "execution_count": 27,
      "outputs": [
        {
          "output_type": "stream",
          "text": [
            "Epoch 1/25\n",
            "126/126 [==============================] - 18s 104ms/step - loss: 23.5880 - mse: 23.5880\n",
            "Epoch 2/25\n",
            "126/126 [==============================] - 13s 104ms/step - loss: 6.5329 - mse: 6.5329\n",
            "Epoch 3/25\n",
            "126/126 [==============================] - 13s 104ms/step - loss: 42.3719 - mse: 42.3719\n",
            "Epoch 4/25\n",
            "126/126 [==============================] - 13s 104ms/step - loss: 11.8493 - mse: 11.8493\n",
            "Epoch 5/25\n",
            "126/126 [==============================] - 13s 104ms/step - loss: 15.8157 - mse: 15.8157\n",
            "Epoch 6/25\n",
            "126/126 [==============================] - 13s 104ms/step - loss: 10.3898 - mse: 10.3898\n",
            "Epoch 7/25\n",
            "126/126 [==============================] - 13s 103ms/step - loss: 7.1699 - mse: 7.1699\n",
            "Epoch 8/25\n",
            "126/126 [==============================] - 13s 104ms/step - loss: 7.4220 - mse: 7.4220\n",
            "Epoch 9/25\n",
            "126/126 [==============================] - 13s 104ms/step - loss: 3.4464 - mse: 3.4464\n",
            "Epoch 10/25\n",
            "126/126 [==============================] - 13s 104ms/step - loss: 3.3496 - mse: 3.3496\n",
            "Epoch 11/25\n",
            "126/126 [==============================] - 13s 104ms/step - loss: 4.0305 - mse: 4.0305\n",
            "Epoch 12/25\n",
            "126/126 [==============================] - 13s 104ms/step - loss: 5.7046 - mse: 5.7046\n",
            "Epoch 13/25\n",
            "126/126 [==============================] - 13s 105ms/step - loss: 4.7679 - mse: 4.7679\n",
            "Epoch 14/25\n",
            "126/126 [==============================] - 13s 104ms/step - loss: 3.8858 - mse: 3.8858\n",
            "Epoch 15/25\n",
            "126/126 [==============================] - 13s 104ms/step - loss: 4.2884 - mse: 4.2884\n",
            "Epoch 16/25\n",
            "126/126 [==============================] - 13s 104ms/step - loss: 4.7855 - mse: 4.7855\n",
            "Epoch 17/25\n",
            "126/126 [==============================] - 13s 104ms/step - loss: 26.0232 - mse: 26.0232\n",
            "Epoch 18/25\n",
            "126/126 [==============================] - 13s 104ms/step - loss: 138.1030 - mse: 138.1030\n",
            "Epoch 19/25\n",
            "126/126 [==============================] - 13s 104ms/step - loss: 153.3680 - mse: 153.3680\n",
            "Epoch 20/25\n",
            "126/126 [==============================] - 13s 104ms/step - loss: 9.7589 - mse: 9.7589\n",
            "Epoch 21/25\n",
            "126/126 [==============================] - 13s 104ms/step - loss: 43.7842 - mse: 43.7842\n",
            "Epoch 22/25\n",
            "126/126 [==============================] - 13s 104ms/step - loss: 15.1165 - mse: 15.1165\n",
            "Epoch 23/25\n",
            "126/126 [==============================] - 13s 103ms/step - loss: 3.6210 - mse: 3.6210\n",
            "Epoch 24/25\n",
            "126/126 [==============================] - 13s 105ms/step - loss: 3.8441 - mse: 3.8441\n",
            "Epoch 25/25\n",
            "126/126 [==============================] - 13s 104ms/step - loss: 3.3770 - mse: 3.3770\n"
          ],
          "name": "stdout"
        }
      ]
    },
    {
      "cell_type": "code",
      "metadata": {
        "id": "cfyV6mX0hahm"
      },
      "source": [
        "def model_forecast(model, series, window_size):\n",
        "    ds = tf.data.Dataset.from_tensor_slices(series)\n",
        "    ds = ds.window(window_size, shift=1, drop_remainder=True)\n",
        "    ds = ds.flat_map(lambda w: w.batch(window_size))\n",
        "    ds = ds.batch(32).prefetch(1)\n",
        "    forecast = model.predict(ds)\n",
        "    return forecast"
      ],
      "execution_count": 28,
      "outputs": []
    },
    {
      "cell_type": "code",
      "metadata": {
        "id": "HqxJSBWdxIK4"
      },
      "source": [
        "window_size=30"
      ],
      "execution_count": 29,
      "outputs": []
    },
    {
      "cell_type": "code",
      "metadata": {
        "id": "yQ6TT89mvAT4"
      },
      "source": [
        "rnn_forecast = model_forecast(model, series[..., np.newaxis], window_size)\n",
        "rnn_forecast = rnn_forecast[split_point - window_size:-1, 0]"
      ],
      "execution_count": 30,
      "outputs": []
    },
    {
      "cell_type": "code",
      "metadata": {
        "colab": {
          "base_uri": "https://localhost:8080/",
          "height": 391
        },
        "id": "UOOd-SN2vCYX",
        "outputId": "12b9b4e3-706e-4a3a-991e-ffd44e68eb8b"
      },
      "source": [
        "plt.figure(figsize=(10, 6))\n",
        "plt.plot(test_time, test_data)\n",
        "plt.plot(test_time, rnn_forecast)"
      ],
      "execution_count": 31,
      "outputs": [
        {
          "output_type": "execute_result",
          "data": {
            "text/plain": [
              "[<matplotlib.lines.Line2D at 0x7ff3f5d59ad0>]"
            ]
          },
          "metadata": {
            "tags": []
          },
          "execution_count": 31
        },
        {
          "output_type": "display_data",
          "data": {
            "image/png": "[encoded data removed]",
            "text/plain": [
              "<Figure size 720x432 with 1 Axes>"
            ]
          },
          "metadata": {
            "tags": [],
            "needs_background": "light"
          }
        }
      ]
    },
    {
      "cell_type": "code",
      "metadata": {
        "id": "B488wY3JxVyY"
      },
      "source": [
        ""
      ],
      "execution_count": null,
      "outputs": []
    }
  ]
}